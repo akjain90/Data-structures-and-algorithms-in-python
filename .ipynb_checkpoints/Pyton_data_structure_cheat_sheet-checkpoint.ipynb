{
 "cells": [
  {
   "cell_type": "markdown",
   "metadata": {},
   "source": [
    "# Lists"
   ]
  },
  {
   "cell_type": "code",
   "execution_count": 29,
   "metadata": {},
   "outputs": [],
   "source": [
    "colors = ['red', 'blue', 'green', 'orange']"
   ]
  },
  {
   "cell_type": "code",
   "execution_count": 30,
   "metadata": {},
   "outputs": [],
   "source": [
    "b = colors  # this does not create the copy instead its a reference"
   ]
  },
  {
   "cell_type": "markdown",
   "metadata": {},
   "source": [
    "### Idexing, for loop and in construct"
   ]
  },
  {
   "cell_type": "code",
   "execution_count": 31,
   "metadata": {},
   "outputs": [
    {
     "name": "stdout",
     "output_type": "stream",
     "text": [
      "Element at index 0 is red \n",
      "\n",
      "First element of the list is red and is same as element at index 0 \n",
      "\n",
      "\n",
      "Element at index 1 is blue \n",
      "\n",
      "First element of the list is blue and is same as element at index 1 \n",
      "\n",
      "\n",
      "Element at index 2 is green \n",
      "\n",
      "First element of the list is green and is same as element at index 2 \n",
      "\n",
      "\n",
      "Element at index 3 is orange \n",
      "\n",
      "First element of the list is orange and is same as element at index 3 \n",
      "\n",
      "\n"
     ]
    }
   ],
   "source": [
    "i = 0 # list indexing start from 0\n",
    "for color in colors:  # list can be iterated using 'in' construct\n",
    "    print (\"Element at index\",i,\"is\",colors[i], \"\\n\")\n",
    "    print (\"First element of the list is\",color,\"and is same as element at index\",i,\"\\n\\n\")\n",
    "    i+=1"
   ]
  },
  {
   "cell_type": "code",
   "execution_count": 32,
   "metadata": {},
   "outputs": [
    {
     "name": "stdout",
     "output_type": "stream",
     "text": [
      "red is in the list\n"
     ]
    }
   ],
   "source": [
    "temp_color = \"red\"\n",
    "if temp_color in colors:  #  'in' construct can be used weather an element is in the list or not\n",
    "    print (temp_color, \"is in the list\")\n",
    "else:\n",
    "    print (temp_color, \"is not in the list\")"
   ]
  },
  {
   "cell_type": "markdown",
   "metadata": {},
   "source": [
    "### Other list methods"
   ]
  },
  {
   "cell_type": "code",
   "execution_count": 33,
   "metadata": {},
   "outputs": [
    {
     "name": "stdout",
     "output_type": "stream",
     "text": [
      "4\n"
     ]
    }
   ],
   "source": [
    "# 'len' gives the length of the list\n",
    "print (len(colors))"
   ]
  },
  {
   "cell_type": "code",
   "execution_count": 34,
   "metadata": {},
   "outputs": [
    {
     "name": "stdout",
     "output_type": "stream",
     "text": [
      "['red', 'blue', 'green', 'orange', 'black']\n"
     ]
    }
   ],
   "source": [
    "# 'append' add one element to the end of the list\n",
    "colors.append('black')\n",
    "print (colors)"
   ]
  },
  {
   "cell_type": "code",
   "execution_count": 35,
   "metadata": {},
   "outputs": [
    {
     "name": "stdout",
     "output_type": "stream",
     "text": [
      "['red', 'blue', 'green', 'pink', 'orange', 'black']\n"
     ]
    }
   ],
   "source": [
    "# 'insert' insert the element to the given index and shift rest of the elements to the right\n",
    "colors.insert(3,'pink')\n",
    "print (colors)"
   ]
  },
  {
   "cell_type": "code",
   "execution_count": 36,
   "metadata": {},
   "outputs": [
    {
     "name": "stdout",
     "output_type": "stream",
     "text": [
      "['yellow', 'brown', 'white', 'red', 'blue', 'green', 'pink', 'orange', 'black']\n"
     ]
    }
   ],
   "source": [
    "# 'extend' add elements of the one list to the end of the other list\n",
    "other_colors = [\"yellow\", \"brown\", \"white\"]\n",
    "other_colors.extend(colors)\n",
    "print (other_colors)"
   ]
  },
  {
   "cell_type": "code",
   "execution_count": 37,
   "metadata": {},
   "outputs": [
    {
     "name": "stdout",
     "output_type": "stream",
     "text": [
      "3\n"
     ]
    }
   ],
   "source": [
    "# 'index' return the index of the element in the list and return a value error if the element is not in the list\n",
    "print (colors.index('pink'))"
   ]
  },
  {
   "cell_type": "code",
   "execution_count": 38,
   "metadata": {},
   "outputs": [
    {
     "name": "stdout",
     "output_type": "stream",
     "text": [
      "['red', 'blue', 'green', 'orange', 'black']\n"
     ]
    }
   ],
   "source": [
    "# 'remove' searches for the first instance of the given element and removes it, and throws an error if not present\n",
    "colors.remove('pink')\n",
    "print(colors)"
   ]
  },
  {
   "cell_type": "code",
   "execution_count": 39,
   "metadata": {},
   "outputs": [
    {
     "name": "stdout",
     "output_type": "stream",
     "text": [
      "['black', 'orange', 'green', 'blue', 'red']\n"
     ]
    }
   ],
   "source": [
    "# 'reverse' reverses the list in place but does not return it\n",
    "colors.reverse()\n",
    "print(colors)\n",
    "colors.reverse()"
   ]
  },
  {
   "cell_type": "code",
   "execution_count": 40,
   "metadata": {},
   "outputs": [
    {
     "name": "stdout",
     "output_type": "stream",
     "text": [
      "orange\n",
      "['red', 'blue', 'green', 'black']\n",
      "black\n",
      "['red', 'blue', 'green']\n"
     ]
    }
   ],
   "source": [
    "# 'pop' removes and returns the element at the given index\n",
    "print(colors.pop(3))\n",
    "print(colors)\n",
    "\n",
    "# Returns the rightmost element if index is omitted\n",
    "print(colors.pop())\n",
    "print(colors)"
   ]
  },
  {
   "cell_type": "code",
   "execution_count": 41,
   "metadata": {},
   "outputs": [
    {
     "name": "stdout",
     "output_type": "stream",
     "text": [
      "['blue', 'green', 'red']\n"
     ]
    }
   ],
   "source": [
    "# 'sorted' returns the sorted array\n",
    "print (sorted(colors))"
   ]
  },
  {
   "cell_type": "code",
   "execution_count": 42,
   "metadata": {},
   "outputs": [],
   "source": [
    "colors.append('Blue')"
   ]
  },
  {
   "cell_type": "code",
   "execution_count": 43,
   "metadata": {},
   "outputs": [
    {
     "name": "stdout",
     "output_type": "stream",
     "text": [
      "['Blue', 'blue', 'green', 'red']\n",
      "['red', 'green', 'blue', 'Blue']\n"
     ]
    }
   ],
   "source": [
    "print (sorted(colors))  # sorted function is case sensitive\n",
    "print (sorted(colors,reverse=True))"
   ]
  },
  {
   "cell_type": "code",
   "execution_count": 44,
   "metadata": {},
   "outputs": [
    {
     "name": "stdout",
     "output_type": "stream",
     "text": [
      "['red', 'blue', 'Blue', 'green']\n"
     ]
    }
   ],
   "source": [
    "print (sorted(colors,key=len)) # pass a function to 'key' and even a custom function can be passed"
   ]
  },
  {
   "cell_type": "code",
   "execution_count": 45,
   "metadata": {},
   "outputs": [
    {
     "name": "stdout",
     "output_type": "stream",
     "text": [
      "['red', 'blue', 'Blue', 'green']\n"
     ]
    }
   ],
   "source": [
    "## Write a little function that takes a string, and returns its last letter.\n",
    "## This will be the key function (takes in 1 value, returns 1 value).\n",
    "def MyFn(s):\n",
    "    return s[-1]\n",
    "\n",
    "print(sorted(colors,key=MyFn))"
   ]
  },
  {
   "cell_type": "code",
   "execution_count": null,
   "metadata": {},
   "outputs": [],
   "source": []
  }
 ],
 "metadata": {
  "kernelspec": {
   "display_name": "Python 3",
   "language": "python",
   "name": "python3"
  },
  "language_info": {
   "codemirror_mode": {
    "name": "ipython",
    "version": 3
   },
   "file_extension": ".py",
   "mimetype": "text/x-python",
   "name": "python",
   "nbconvert_exporter": "python",
   "pygments_lexer": "ipython3",
   "version": "3.6.5"
  }
 },
 "nbformat": 4,
 "nbformat_minor": 2
}
